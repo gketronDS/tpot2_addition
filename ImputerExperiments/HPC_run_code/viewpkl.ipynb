{
 "cells": [
  {
   "cell_type": "code",
   "execution_count": null,
   "metadata": {},
   "outputs": [],
   "source": [
    "import tpot2\n",
    "import dill as pickle\n",
    "import pandas as pd"
   ]
  },
  {
   "cell_type": "code",
   "execution_count": null,
   "metadata": {},
   "outputs": [],
   "source": [
    "'''\n",
    "'6', '26', '30', '32', '2142', '14953', '206', '219','2075', '2076', '2280',\n",
    "                    '3483', '3510', '3591', '3594', '3603', '3668', '3688', '3712', '3735',\n",
    "                    '3745', '3764', '3786', '3899', '3954', '7295', '14964', '9983', '9972',\n",
    "                    '9952', '9959', '9943', '9942', '9899', '34539', '167120', '145943', '145681'\n",
    "'''\n",
    "\"\"\"\n",
    "'2306', '2309', '2288', '2289', '2307', '359935','7320', '7323', '233211', '359938', '317615'\n",
    "\"\"\""
   ]
  },
  {
   "cell_type": "code",
   "execution_count": null,
   "metadata": {},
   "outputs": [],
   "source": [
    "for taskid in ['26', '2280', '190419', '233211', '360966']:\n",
    "    fileoutput = '/common/ketrong/AutoImputeExp/tpot2_imputetest/Impute_Experiments/regression_data/'\n",
    "    csvout = pd.DataFrame(columns=['Exp1ImputeRMSE','Exp2ImputeModel','Exp2train_explained_var','Exp2train_r2', \n",
    "                                   'Exp2train_rmse', 'Exp2test_explained_var', 'Exp2test_r2', \n",
    "                                   'Exp2test_rmse', 'Exp2impute_explained_var', 'Exp2impute_r2', \n",
    "                                   'Exp2impute_rmse', 'Exp2impute_pipe', 'Exp2duration', \n",
    "                                   'Exp3ImputeModel', 'Exp3train_explained_var', 'Exp3train_r2', 'Exp3train_rmse', \n",
    "                                   'Exp3impute_explained_var', 'Exp3impute_r2', 'Exp3impute_rmse', \n",
    "                                   'Exp3impute_pipe', 'Exp3duration'], \n",
    "                            index=['/tpot2_base_normal_MAR_0.01/','/tpot2_base_normal_MAR_0.1/',\n",
    "                                   '/tpot2_base_normal_MAR_0.3/','/tpot2_base_normal_MAR_0.5/',\n",
    "                                     '/tpot2_base_normal_MAR_0.9/','/tpot2_base_normal_MNAR_0.01/',\n",
    "                                     '/tpot2_base_normal_MNAR_0.1/','/tpot2_base_normal_MNAR_0.3/',\n",
    "                                     '/tpot2_base_normal_MNAR_0.5/', '/tpot2_base_normal_MNAR_0.9/',\n",
    "                                     '/tpot2_base_normal_MCAR_0.01/','/tpot2_base_normal_MCAR_0.1/',\n",
    "                                     '/tpot2_base_normal_MCAR_0.3/','/tpot2_base_normal_MCAR_0.5/',\n",
    "                                    '/tpot2_base_normal_MCAR_0.9/','/tpot2_base_imputation_MAR_0.01/','/tpot2_base_imputation_MAR_0.1/',\n",
    "                                   '/tpot2_base_imputation_MAR_0.3/','/tpot2_base_imputation_MAR_0.5/',\n",
    "                                     '/tpot2_base_imputation_MAR_0.9/','/tpot2_base_imputation_MNAR_0.01/',\n",
    "                                     '/tpot2_base_imputation_MNAR_0.1/','/tpot2_base_imputation_MNAR_0.3/',\n",
    "                                     '/tpot2_base_imputation_MNAR_0.5/', '/tpot2_base_imputation_MNAR_0.9/',\n",
    "                                     '/tpot2_base_imputation_MCAR_0.01/','/tpot2_base_imputation_MCAR_0.1/',\n",
    "                                     '/tpot2_base_imputation_MCAR_0.3/','/tpot2_base_imputation_MCAR_0.5/', '/tpot2_base_imputation_MCAR_0.9/'])\n",
    "    #print(csvout)\n",
    "    for exp in ['/tpot2_base_normal_','/tpot2_base_imputation_']:\n",
    "        for item in ['MAR_', 'MCAR_', 'MNAR_']:\n",
    "            for lvl in ['0.01/', '0.1/', '0.3/', '0.5/', '0.9/']:\n",
    "                normalpath = '/common/ketrong/AutoImputeExp/tpot2_imputetest/Impute_Experiments/logs/'+ taskid + exp + item + lvl\n",
    "                imputepath = '/common/ketrong/AutoImputeExp/tpot2_imputetest/Impute_Experiments/logs/'+ taskid + exp + item + lvl\n",
    "                \n",
    "                try:\n",
    "                    with open(normalpath + 'all_scores.pkl', 'rb') as file:\n",
    "                        my_object = pickle.load(file)\n",
    "                        #print(my_object)\n",
    "                    with open(normalpath + 'est_fitted_pipeline.pkl', 'rb') as file:\n",
    "                        my_object_pipeline = pickle.load(file)\n",
    "                    with open(imputepath + 'tpot_space_scores.pkl', 'rb') as file:\n",
    "                        my_run = pickle.load(file)\n",
    "                        #print(my_run)\n",
    "                    with open(imputepath + 'tpot_space_evaluated_individuals.pkl', 'rb') as file:\n",
    "                        my_run_pipeline = pickle.load(file)\n",
    "                        print(my_run_pipeline)\n",
    "                    csvout.loc[exp+item+lvl] = pd.Series({'Exp1ImputeRMSE': my_object['impute_rmse'] ,'Exp2ImputeModel': str(my_object['impute_space']),'Exp2train_explained_var': my_object['train_score']['train_explained_var'],'Exp2train_r2': my_object['train_score']['train_r2'], \n",
    "                                        'Exp2train_rmse': my_object['train_score']['train_rmse'], 'Exp2test_explained_var': my_object['ori_test_score']['explained_var'], 'Exp2test_r2': my_object['ori_test_score']['r2'], \n",
    "                                        'Exp2test_rmse': my_object['ori_test_score']['rmse'], 'Exp2impute_explained_var': my_object['imputed_test_score']['explained_var'], 'Exp2impute_r2': my_object['imputed_test_score']['r2'], \n",
    "                                        'Exp2impute_rmse': my_object['imputed_test_score']['rmse'], 'Exp2impute_pipe': my_object_pipeline, 'Exp2duration': my_object['duration'], \n",
    "                                        'Exp3ImputeModel': my_run_pipeline, 'Exp3train_explained_var': my_run['train_score']['train_explained_var'], 'Exp3train_r2': my_run['train_score']['train_r2'], 'Exp3train_rmse': my_run['train_score']['train_rmse'], \n",
    "                                        'Exp3impute_explained_var': my_run['ori_test_score']['explained_var'], 'Exp3impute_r2': my_run['ori_test_score']['r2'], 'Exp3impute_rmse': my_run['ori_test_score']['rmse'], \n",
    "                                        'Exp3impute_pipe': my_run_pipeline, 'Exp3duration': my_run['duration']})\n",
    "                    \n",
    "                except:\n",
    "                    print(taskid+item+lvl+' failed')\n",
    "    output = csvout.to_csv(fileoutput+taskid+'.csv')"
   ]
  },
  {
   "cell_type": "code",
   "execution_count": null,
   "metadata": {},
   "outputs": [],
   "source": [
    "with open('/common/ketrong/AutoImputeExp/tpot2_imputetest/Impute_Experiments/logs/6/tpot2_base_normal_MNAR_0.01/est_fitted_pipeline.pkl', 'rb') as file:\n",
    "    my_object = pickle.load(file)\n",
    "print(my_object)"
   ]
  },
  {
   "cell_type": "code",
   "execution_count": null,
   "metadata": {},
   "outputs": [],
   "source": [
    "with open('/common/ketrong/AutoImputeExp/tpot2_imputetest/Impute_Experiments/logs/6/tpot2_base_normal_MNAR_0.01/tpot_space_scores.pkl', 'rb') as file:\n",
    "    my_object = pickle.load(file)\n",
    "print(my_object)"
   ]
  },
  {
   "cell_type": "code",
   "execution_count": null,
   "metadata": {},
   "outputs": [],
   "source": [
    "with open('/common/ketrong/AutoImputeExp/tpot2_imputetest/Impute_Experiments/logs/6/tpot2_base_normal_MNAR_0.01/tpot_space_fitted_pipeline.pkl', 'rb') as file:\n",
    "    my_object = pickle.load(file)\n",
    "print(my_object)"
   ]
  },
  {
   "cell_type": "code",
   "execution_count": null,
   "metadata": {},
   "outputs": [],
   "source": [
    "with open('/common/ketrong/AutoImputeExp/tpot2_imputetest/Impute_Experiments/logs/6/tpot2_base_imputation_MNAR_0.01/all_scores.pkl', 'rb') as file:\n",
    "    my_object = pickle.load(file)\n",
    "print(my_object)"
   ]
  },
  {
   "cell_type": "code",
   "execution_count": null,
   "metadata": {},
   "outputs": [],
   "source": [
    "with open('/common/ketrong/AutoImputeExp/tpot2_imputetest/Impute_Experiments/logs/6/tpot2_base_imputation_MNAR_0.01/est_fitted_pipeline.pkl', 'rb') as file:\n",
    "    my_object = pickle.load(file)\n",
    "print(my_object)"
   ]
  },
  {
   "cell_type": "code",
   "execution_count": null,
   "metadata": {},
   "outputs": [],
   "source": [
    "with open('/common/ketrong/AutoImputeExp/tpot2_imputetest/Impute_Experiments/logs/6/tpot2_base_imputation_MNAR_0.01/tpot_space_scores.pkl', 'rb') as file:\n",
    "    my_object = pickle.load(file)\n",
    "print(my_object)"
   ]
  },
  {
   "cell_type": "code",
   "execution_count": null,
   "metadata": {},
   "outputs": [],
   "source": [
    "with open('/common/ketrong/AutoImputeExp/tpot2_imputetest/Impute_Experiments/logs/6/tpot2_base_imputation_MNAR_0.01/tpot_space_fitted_pipeline.pkl', 'rb') as file:\n",
    "    my_object = pickle.load(file)\n",
    "print(my_object)"
   ]
  }
 ],
 "metadata": {
  "language_info": {
   "name": "python"
  }
 },
 "nbformat": 4,
 "nbformat_minor": 2
}
